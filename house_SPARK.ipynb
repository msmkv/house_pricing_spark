{
 "cells": [
  {
   "cell_type": "markdown",
   "id": "GEqQaHzsZ_bA",
   "metadata": {
    "id": "GEqQaHzsZ_bA"
   },
   "source": [
    "# California Housing Prices\n",
    "\n",
    "### Описание проекта и условия задачи\n",
    "\n",
    "На основе представленных данных необходимо предсказать медианную стоимость дома в жилом массиве — median_house_value. \n",
    "\n",
    "Обучим модель и сделаем предсказания на тестовой выборке. \n",
    "Для оценки качества модели будут использованы метрики RMSE, MAE и R2.\n",
    "\n",
    "### Описание данных\n",
    "**Признаки**\n",
    "- longitude — широта\n",
    "- latitude — долгота\n",
    "- housing_median_age — медианный возраст жителей жилого массива\n",
    "- total_rooms — общее количество комнат в домах жилого массива\n",
    "- total_bedrooms — общее количество спален в домах жилого массива\n",
    "- population — количество человек, которые проживают в жилом массиве\n",
    "- households — количество домовладений в жилом массиве\n",
    "- median_income — медианный доход жителей жилого массива\n",
    "- ocean_proximity — близость к океану\n",
    "\n",
    "**Целевая переменная**\n",
    "- median_house_value — медианная стоимость дома в жилом массиве\n",
    "\n",
    "### План работы\n",
    "\n",
    "1. Инициализировать локальную Spark-сессию.\n",
    "2. Загрузить и предварительно изучить данные и их типы.\n",
    "3. Выполнить предобработку данных.\n",
    "4. Подготовить данные к обучению.\n",
    "5. Построить две модели линейной регрессии на разных наборах данных:\n",
    "    - используя все данные из файла;\n",
    "    - используя только числовые переменные, исключив категориальные.\n",
    "6. Сравнить результаты работы линейной регрессии на двух наборах данных по метрикам RMSE, MAE и R2."
   ]
  },
  {
   "cell_type": "markdown",
   "id": "53871372",
   "metadata": {
    "id": "53871372"
   },
   "source": [
    "# Подготовка данных"
   ]
  },
  {
   "cell_type": "code",
   "execution_count": 1,
   "id": "7ce518e7",
   "metadata": {},
   "outputs": [],
   "source": [
    "!pip install --upgrade pyspark -q"
   ]
  },
  {
   "cell_type": "code",
   "execution_count": 12,
   "id": "df92e3ec",
   "metadata": {
    "id": "df92e3ec"
   },
   "outputs": [],
   "source": [
    "import pandas as pd \n",
    "import numpy as np\n",
    "import pyspark\n",
    "from pyspark.sql import SparkSession\n",
    "from pyspark.sql.types import *\n",
    "import pyspark.sql.functions as F\n",
    "from pyspark.sql.window import Window\n",
    "\n",
    "from pyspark.ml.stat import Correlation\n",
    "from pyspark.ml.feature import Imputer, StringIndexer, VectorAssembler, StandardScaler\n",
    "from pyspark.ml.regression import LinearRegression\n",
    "from pyspark.ml.evaluation import RegressionEvaluator\n",
    "\n",
    "pyspark_version = pyspark.__version__\n",
    "if int(pyspark_version[:1]) == 3:\n",
    "    from pyspark.ml.feature import OneHotEncoder as OHE_encoder    \n",
    "elif int(pyspark_version[:1]) == 2:\n",
    "    from pyspark.ml.feature import OneHotEncodeEstimator as OHE_encoder \n",
    "    \n",
    "from pyspark.ml import Pipeline\n",
    "    \n",
    "RANDOM_SEED = 2023\n",
    "\n",
    "spark = SparkSession.builder \\\n",
    "                    .master(\"local\") \\\n",
    "                    .appName(\"Californication\") \\\n",
    "                    .getOrCreate()"
   ]
  },
  {
   "cell_type": "code",
   "execution_count": 3,
   "id": "34290c4e",
   "metadata": {
    "scrolled": true
   },
   "outputs": [
    {
     "name": "stderr",
     "output_type": "stream",
     "text": [
      "[Stage 1:>                                                          (0 + 1) / 1]\r"
     ]
    },
    {
     "name": "stdout",
     "output_type": "stream",
     "text": [
      "root\n",
      " |-- longitude: double (nullable = true)\n",
      " |-- latitude: double (nullable = true)\n",
      " |-- housing_median_age: double (nullable = true)\n",
      " |-- total_rooms: double (nullable = true)\n",
      " |-- total_bedrooms: double (nullable = true)\n",
      " |-- population: double (nullable = true)\n",
      " |-- households: double (nullable = true)\n",
      " |-- median_income: double (nullable = true)\n",
      " |-- median_house_value: double (nullable = true)\n",
      " |-- ocean_proximity: string (nullable = true)\n",
      "\n"
     ]
    },
    {
     "name": "stderr",
     "output_type": "stream",
     "text": [
      "                                                                                \r"
     ]
    }
   ],
   "source": [
    "df_housing = spark.read.load('/datasets/housing.csv',\n",
    "                                     format=\"csv\",\n",
    "                                     sep=\",\",\n",
    "                                     inferSchema=True,\n",
    "                                     header=\"true\")\n",
    "df_housing.printSchema()  "
   ]
  },
  {
   "cell_type": "code",
   "execution_count": 4,
   "id": "9ca7e079",
   "metadata": {},
   "outputs": [
    {
     "name": "stdout",
     "output_type": "stream",
     "text": [
      "               column    type\n",
      "0           longitude  double\n",
      "1            latitude  double\n",
      "2  housing_median_age  double\n",
      "3         total_rooms  double\n",
      "4      total_bedrooms  double\n",
      "5          population  double\n",
      "6          households  double\n",
      "7       median_income  double\n",
      "8  median_house_value  double\n",
      "9     ocean_proximity  string \n",
      "\n",
      "+---------+--------+------------------+-----------+--------------+----------+----------+-------------+------------------+---------------+\n",
      "|longitude|latitude|housing_median_age|total_rooms|total_bedrooms|population|households|median_income|median_house_value|ocean_proximity|\n",
      "+---------+--------+------------------+-----------+--------------+----------+----------+-------------+------------------+---------------+\n",
      "|  -122.23|   37.88|              41.0|      880.0|         129.0|     322.0|     126.0|       8.3252|          452600.0|       NEAR BAY|\n",
      "|  -122.22|   37.86|              21.0|     7099.0|        1106.0|    2401.0|    1138.0|       8.3014|          358500.0|       NEAR BAY|\n",
      "|  -122.24|   37.85|              52.0|     1467.0|         190.0|     496.0|     177.0|       7.2574|          352100.0|       NEAR BAY|\n",
      "|  -122.25|   37.85|              52.0|     1274.0|         235.0|     558.0|     219.0|       5.6431|          341300.0|       NEAR BAY|\n",
      "|  -122.25|   37.85|              52.0|     1627.0|         280.0|     565.0|     259.0|       3.8462|          342200.0|       NEAR BAY|\n",
      "|  -122.25|   37.85|              52.0|      919.0|         213.0|     413.0|     193.0|       4.0368|          269700.0|       NEAR BAY|\n",
      "|  -122.25|   37.84|              52.0|     2535.0|         489.0|    1094.0|     514.0|       3.6591|          299200.0|       NEAR BAY|\n",
      "|  -122.25|   37.84|              52.0|     3104.0|         687.0|    1157.0|     647.0|         3.12|          241400.0|       NEAR BAY|\n",
      "|  -122.26|   37.84|              42.0|     2555.0|         665.0|    1206.0|     595.0|       2.0804|          226700.0|       NEAR BAY|\n",
      "|  -122.25|   37.84|              52.0|     3549.0|         707.0|    1551.0|     714.0|       3.6912|          261100.0|       NEAR BAY|\n",
      "+---------+--------+------------------+-----------+--------------+----------+----------+-------------+------------------+---------------+\n",
      "only showing top 10 rows\n",
      "\n"
     ]
    }
   ],
   "source": [
    "#типы колонок\n",
    "\n",
    "print(pd.DataFrame(df_housing.dtypes, columns=['column', 'type']).head(10),'\\n')\n",
    "\n",
    "df_housing.show(10)"
   ]
  },
  {
   "cell_type": "code",
   "execution_count": 5,
   "id": "445936b8",
   "metadata": {},
   "outputs": [
    {
     "name": "stderr",
     "output_type": "stream",
     "text": [
      "                                                                                \r"
     ]
    },
    {
     "data": {
      "text/html": [
       "<div>\n",
       "<style scoped>\n",
       "    .dataframe tbody tr th:only-of-type {\n",
       "        vertical-align: middle;\n",
       "    }\n",
       "\n",
       "    .dataframe tbody tr th {\n",
       "        vertical-align: top;\n",
       "    }\n",
       "\n",
       "    .dataframe thead th {\n",
       "        text-align: right;\n",
       "    }\n",
       "</style>\n",
       "<table border=\"1\" class=\"dataframe\">\n",
       "  <thead>\n",
       "    <tr style=\"text-align: right;\">\n",
       "      <th></th>\n",
       "      <th>0</th>\n",
       "      <th>1</th>\n",
       "      <th>2</th>\n",
       "      <th>3</th>\n",
       "      <th>4</th>\n",
       "    </tr>\n",
       "  </thead>\n",
       "  <tbody>\n",
       "    <tr>\n",
       "      <th>summary</th>\n",
       "      <td>count</td>\n",
       "      <td>mean</td>\n",
       "      <td>stddev</td>\n",
       "      <td>min</td>\n",
       "      <td>max</td>\n",
       "    </tr>\n",
       "    <tr>\n",
       "      <th>longitude</th>\n",
       "      <td>20640</td>\n",
       "      <td>-119.56970445736148</td>\n",
       "      <td>2.003531723502584</td>\n",
       "      <td>-124.35</td>\n",
       "      <td>-114.31</td>\n",
       "    </tr>\n",
       "    <tr>\n",
       "      <th>latitude</th>\n",
       "      <td>20640</td>\n",
       "      <td>35.6318614341087</td>\n",
       "      <td>2.135952397457101</td>\n",
       "      <td>32.54</td>\n",
       "      <td>41.95</td>\n",
       "    </tr>\n",
       "    <tr>\n",
       "      <th>housing_median_age</th>\n",
       "      <td>20640</td>\n",
       "      <td>28.639486434108527</td>\n",
       "      <td>12.58555761211163</td>\n",
       "      <td>1.0</td>\n",
       "      <td>52.0</td>\n",
       "    </tr>\n",
       "    <tr>\n",
       "      <th>total_rooms</th>\n",
       "      <td>20640</td>\n",
       "      <td>2635.7630813953488</td>\n",
       "      <td>2181.6152515827944</td>\n",
       "      <td>2.0</td>\n",
       "      <td>39320.0</td>\n",
       "    </tr>\n",
       "    <tr>\n",
       "      <th>total_bedrooms</th>\n",
       "      <td>20433</td>\n",
       "      <td>537.8705525375618</td>\n",
       "      <td>421.38507007403115</td>\n",
       "      <td>1.0</td>\n",
       "      <td>6445.0</td>\n",
       "    </tr>\n",
       "    <tr>\n",
       "      <th>population</th>\n",
       "      <td>20640</td>\n",
       "      <td>1425.4767441860465</td>\n",
       "      <td>1132.46212176534</td>\n",
       "      <td>3.0</td>\n",
       "      <td>35682.0</td>\n",
       "    </tr>\n",
       "    <tr>\n",
       "      <th>households</th>\n",
       "      <td>20640</td>\n",
       "      <td>499.5396802325581</td>\n",
       "      <td>382.3297528316098</td>\n",
       "      <td>1.0</td>\n",
       "      <td>6082.0</td>\n",
       "    </tr>\n",
       "    <tr>\n",
       "      <th>median_income</th>\n",
       "      <td>20640</td>\n",
       "      <td>3.8706710029070246</td>\n",
       "      <td>1.899821717945263</td>\n",
       "      <td>0.4999</td>\n",
       "      <td>15.0001</td>\n",
       "    </tr>\n",
       "    <tr>\n",
       "      <th>median_house_value</th>\n",
       "      <td>20640</td>\n",
       "      <td>206855.81690891474</td>\n",
       "      <td>115395.61587441359</td>\n",
       "      <td>14999.0</td>\n",
       "      <td>500001.0</td>\n",
       "    </tr>\n",
       "    <tr>\n",
       "      <th>ocean_proximity</th>\n",
       "      <td>20640</td>\n",
       "      <td>None</td>\n",
       "      <td>None</td>\n",
       "      <td>&lt;1H OCEAN</td>\n",
       "      <td>NEAR OCEAN</td>\n",
       "    </tr>\n",
       "  </tbody>\n",
       "</table>\n",
       "</div>"
      ],
      "text/plain": [
       "                        0                    1                   2          3  \\\n",
       "summary             count                 mean              stddev        min   \n",
       "longitude           20640  -119.56970445736148   2.003531723502584    -124.35   \n",
       "latitude            20640     35.6318614341087   2.135952397457101      32.54   \n",
       "housing_median_age  20640   28.639486434108527   12.58555761211163        1.0   \n",
       "total_rooms         20640   2635.7630813953488  2181.6152515827944        2.0   \n",
       "total_bedrooms      20433    537.8705525375618  421.38507007403115        1.0   \n",
       "population          20640   1425.4767441860465    1132.46212176534        3.0   \n",
       "households          20640    499.5396802325581   382.3297528316098        1.0   \n",
       "median_income       20640   3.8706710029070246   1.899821717945263     0.4999   \n",
       "median_house_value  20640   206855.81690891474  115395.61587441359    14999.0   \n",
       "ocean_proximity     20640                 None                None  <1H OCEAN   \n",
       "\n",
       "                             4  \n",
       "summary                    max  \n",
       "longitude              -114.31  \n",
       "latitude                 41.95  \n",
       "housing_median_age        52.0  \n",
       "total_rooms            39320.0  \n",
       "total_bedrooms          6445.0  \n",
       "population             35682.0  \n",
       "households              6082.0  \n",
       "median_income          15.0001  \n",
       "median_house_value    500001.0  \n",
       "ocean_proximity     NEAR OCEAN  "
      ]
     },
     "execution_count": 5,
     "metadata": {},
     "output_type": "execute_result"
    }
   ],
   "source": [
    "# выведем статистику\n",
    "df_housing.describe().toPandas().transpose()"
   ]
  },
  {
   "cell_type": "markdown",
   "id": "be5f70ec",
   "metadata": {},
   "source": [
    "### Предобработка данных"
   ]
  },
  {
   "cell_type": "markdown",
   "id": "4dc14799",
   "metadata": {},
   "source": [
    "Проверим наличие пропусков"
   ]
  },
  {
   "cell_type": "code",
   "execution_count": 6,
   "id": "7dc16a57",
   "metadata": {
    "scrolled": true
   },
   "outputs": [
    {
     "name": "stdout",
     "output_type": "stream",
     "text": [
      "longitude 0\n",
      "latitude 0\n",
      "housing_median_age 0\n",
      "total_rooms 0\n",
      "total_bedrooms 207\n",
      "population 0\n",
      "households 0\n",
      "median_income 0\n",
      "median_house_value 0\n",
      "ocean_proximity 0\n"
     ]
    }
   ],
   "source": [
    "columns = df_housing.columns\n",
    "\n",
    "for column in columns:\n",
    "    check_col = F.col(column).cast(FloatType())\n",
    "    print(column, df_housing.filter(F.isnan(column) | F.col(column).isNull()).count())"
   ]
  },
  {
   "cell_type": "markdown",
   "id": "b9f83289",
   "metadata": {},
   "source": [
    "В колонке `total bedrooms` обнаружено 207 пропусков, устраним их с помощью медианных значений"
   ]
  },
  {
   "cell_type": "code",
   "execution_count": 7,
   "id": "ec49753d",
   "metadata": {},
   "outputs": [],
   "source": [
    "window = Window().partitionBy('total_rooms')\n",
    "\n",
    "# столбец с медианными значениями по окнам\n",
    "df_housing = df_housing.withColumn('median_bedrooms',\n",
    "                                   F.percentile_approx('total_bedrooms', 0.5).over(window))\n",
    "\n",
    "# пропущенные значения заполняем значениями из оконной медианы\n",
    "df_housing = df_housing.withColumn('total_bedrooms',\n",
    "                                   F.coalesce('total_bedrooms', 'median_bedrooms'))\n",
    "\n",
    "df_housing = df_housing.drop('median_bedrooms')"
   ]
  },
  {
   "cell_type": "markdown",
   "id": "2674de82",
   "metadata": {},
   "source": [
    "Проверка"
   ]
  },
  {
   "cell_type": "code",
   "execution_count": 8,
   "id": "2c0f9d89",
   "metadata": {},
   "outputs": [
    {
     "name": "stdout",
     "output_type": "stream",
     "text": [
      "longitude 0\n",
      "latitude 0\n",
      "housing_median_age 0\n",
      "total_rooms 0\n"
     ]
    },
    {
     "name": "stderr",
     "output_type": "stream",
     "text": [
      "                                                                                \r"
     ]
    },
    {
     "name": "stdout",
     "output_type": "stream",
     "text": [
      "total_bedrooms 15\n",
      "population 0\n",
      "households 0\n",
      "median_income 0\n",
      "median_house_value 0\n",
      "ocean_proximity 0\n"
     ]
    }
   ],
   "source": [
    "for column in columns:\n",
    "    check_col = F.col(column).cast(FloatType())\n",
    "    print(column, df_housing.filter(F.isnan(column) | F.col(column).isNull()).count())"
   ]
  },
  {
   "cell_type": "code",
   "execution_count": 9,
   "id": "9c3ff06f",
   "metadata": {},
   "outputs": [],
   "source": [
    "median_value = df_housing.approxQuantile('total_bedrooms', [0.5], 0)[0]\n",
    "df_housing = df_housing.na.fill({'total_bedrooms': median_value})"
   ]
  },
  {
   "cell_type": "markdown",
   "id": "d17e82bf",
   "metadata": {},
   "source": [
    "Проверка"
   ]
  },
  {
   "cell_type": "code",
   "execution_count": 10,
   "id": "eccbd3cb",
   "metadata": {},
   "outputs": [
    {
     "name": "stdout",
     "output_type": "stream",
     "text": [
      "longitude 0\n",
      "latitude 0\n",
      "housing_median_age 0\n",
      "total_rooms 0\n",
      "total_bedrooms 0\n",
      "population 0\n",
      "households 0\n",
      "median_income 0\n",
      "median_house_value 0\n",
      "ocean_proximity 0\n"
     ]
    }
   ],
   "source": [
    "for column in columns:\n",
    "    check_col = F.col(column).cast(FloatType())\n",
    "    print(column, df_housing.filter(F.isnan(column) | F.col(column).isNull()).count())"
   ]
  },
  {
   "cell_type": "markdown",
   "id": "f1cde367",
   "metadata": {},
   "source": [
    "### Разработка модели"
   ]
  },
  {
   "cell_type": "markdown",
   "id": "14d41e3a",
   "metadata": {},
   "source": [
    "Имеем категориальный признак `ocean_proximity`, обработаем его с помощью OHE"
   ]
  },
  {
   "cell_type": "code",
   "execution_count": 13,
   "id": "af1c40a3",
   "metadata": {},
   "outputs": [],
   "source": [
    "stages = []\n",
    "\n",
    "categoricalColumns = ['ocean_proximity']\n",
    "\n",
    "for categoricalCol in categoricalColumns:\n",
    "    #to binary vectors\n",
    "    stringIndexer = StringIndexer(inputCol = categoricalCol,\n",
    "                                  outputCol = categoricalCol + 'Index',\n",
    "                                  handleInvalid = 'keep')\n",
    "    \n",
    "    encoder = OHE_encoder(inputCol=stringIndexer.getOutputCol(),\n",
    "                            outputCol=categoricalCol + \"classVec\")\n",
    "    \n",
    "    stages += [stringIndexer, encoder]\n",
    "\n",
    "####\n",
    "numericCols = ['longitude',\n",
    "               'latitude',\n",
    "               'housing_median_age',\n",
    "               'total_rooms',\n",
    "               'total_bedrooms',\n",
    "               'population',\n",
    "               'households',\n",
    "               'median_income']\n",
    "\n",
    "assemblerInputs = [c + \"classVec\" for c in categoricalColumns] + numericCols\n",
    "\n",
    "#assemble all\n",
    "assembler_all = VectorAssembler(inputCols=assemblerInputs, outputCol=\"features\")\n",
    "\n",
    "stages += [assembler_all]"
   ]
  },
  {
   "cell_type": "code",
   "execution_count": 14,
   "id": "9bd04ffb",
   "metadata": {},
   "outputs": [],
   "source": [
    "#split for train & test (75/25)\n",
    "\n",
    "train_data, test_data = df_housing.randomSplit([0.75, 0.25], seed=RANDOM_SEED)\n",
    "\n",
    "#train LinearRegression\n",
    "lr = LinearRegression(labelCol=\"median_house_value\", featuresCol=\"features\")\n",
    "\n",
    "stages += [lr]\n",
    "\n",
    "pipeline_all = Pipeline(stages=stages)"
   ]
  },
  {
   "cell_type": "markdown",
   "id": "aee0af24",
   "metadata": {},
   "source": [
    "# Обучаем модели"
   ]
  },
  {
   "cell_type": "code",
   "execution_count": 15,
   "id": "c47a23c8",
   "metadata": {},
   "outputs": [
    {
     "name": "stderr",
     "output_type": "stream",
     "text": [
      "                                                                                \r"
     ]
    },
    {
     "name": "stdout",
     "output_type": "stream",
     "text": [
      "23/03/19 21:29:41 WARN Instrumentation: [c3d0ea92] regParam is zero, which might cause numerical instability and overfitting.\n"
     ]
    },
    {
     "name": "stderr",
     "output_type": "stream",
     "text": [
      "[Stage 114:>                                                        (0 + 1) / 1]\r"
     ]
    },
    {
     "name": "stdout",
     "output_type": "stream",
     "text": [
      "23/03/19 21:29:41 WARN InstanceBuilder$NativeBLAS: Failed to load implementation from:dev.ludovic.netlib.blas.JNIBLAS\n",
      "23/03/19 21:29:41 WARN InstanceBuilder$NativeBLAS: Failed to load implementation from:dev.ludovic.netlib.blas.ForeignLinkerBLAS\n"
     ]
    },
    {
     "name": "stderr",
     "output_type": "stream",
     "text": [
      "                                                                                \r"
     ]
    },
    {
     "name": "stdout",
     "output_type": "stream",
     "text": [
      "23/03/19 21:29:42 WARN InstanceBuilder$NativeLAPACK: Failed to load implementation from:dev.ludovic.netlib.lapack.JNILAPACK\n",
      "23/03/19 21:29:42 WARN Instrumentation: [c3d0ea92] Cholesky solver failed due to singular covariance matrix. Retrying with Quasi-Newton solver.\n",
      "23/03/19 21:29:43 ERROR LBFGS: Failure! Resetting history: breeze.optimize.FirstOrderException: Line search zoom failed\n",
      "23/03/19 21:29:43 ERROR LBFGS: Failure again! Giving up and returning. Maybe the objective is just poorly behaved?\n"
     ]
    },
    {
     "name": "stderr",
     "output_type": "stream",
     "text": [
      "                                                                                \r"
     ]
    },
    {
     "name": "stdout",
     "output_type": "stream",
     "text": [
      "+------------------+------------------+\n",
      "|median_house_value|        prediction|\n",
      "+------------------+------------------+\n",
      "|           78300.0|126053.06313147536|\n",
      "|           67000.0| 152674.9062986672|\n",
      "|           81300.0|151709.92211808916|\n",
      "|           62500.0|166995.67592948908|\n",
      "|          100600.0| 191275.1949282037|\n",
      "|          104200.0| 200436.3732560724|\n",
      "|           86400.0|193272.47017765278|\n",
      "|           74100.0|157532.02935895463|\n",
      "|          128100.0|221782.68750601867|\n",
      "|          130600.0|217837.95310454862|\n",
      "|           99600.0|186214.21014077123|\n",
      "|           92800.0|210766.21543930937|\n",
      "|           83000.0|177852.73969092593|\n",
      "|           70500.0|173305.99998215633|\n",
      "|           87500.0|127955.75183109986|\n",
      "|           82100.0|158756.84895353578|\n",
      "|           99600.0|151048.75713353418|\n",
      "|          135600.0|173710.16976094898|\n",
      "|           78800.0|133522.06435851054|\n",
      "|          111300.0| 157173.7435074742|\n",
      "+------------------+------------------+\n",
      "only showing top 20 rows\n",
      "\n"
     ]
    }
   ],
   "source": [
    "model = pipeline_all.fit(train_data)\n",
    "\n",
    "predictions_all = model.transform(test_data)\n",
    "\n",
    "predictedLabes = predictions_all.select(\"median_house_value\", \"prediction\")\n",
    "\n",
    "predictedLabes.show() "
   ]
  },
  {
   "cell_type": "code",
   "execution_count": 16,
   "id": "ea05bbe5",
   "metadata": {},
   "outputs": [
    {
     "name": "stdout",
     "output_type": "stream",
     "text": [
      " RMSE = 69332.3524277725 MAE = 49875.32583897082 R2 = 0.6392867554397212\n"
     ]
    }
   ],
   "source": [
    "eval = RegressionEvaluator(labelCol = 'median_house_value')\n",
    "rmse = eval.evaluate(predictions_all, {eval.metricName:'rmse'})\n",
    "mae = eval.evaluate(predictions_all, {eval.metricName:'mae'})\n",
    "r2 = eval.evaluate(predictions_all,{eval.metricName:'r2'})\n",
    "\n",
    "res_1 = f' RMSE = {rmse} MAE = {mae} R2 = {r2}'\n",
    "print(res_1)"
   ]
  },
  {
   "cell_type": "markdown",
   "id": "81c40c25",
   "metadata": {},
   "source": [
    "Используем шаги предыдущего пайплайна, заменив один шаг на `assembler_num`"
   ]
  },
  {
   "cell_type": "code",
   "execution_count": 17,
   "id": "ebe72389",
   "metadata": {},
   "outputs": [],
   "source": [
    "assemblerInputs_num = numericCols\n",
    "\n",
    "assembler_num = VectorAssembler(inputCols=assemblerInputs_num, outputCol=\"features\")\n",
    " \n",
    "stages[2] = assembler_num"
   ]
  },
  {
   "cell_type": "code",
   "execution_count": 18,
   "id": "b030c0da",
   "metadata": {},
   "outputs": [],
   "source": [
    "pipeline_num = Pipeline(stages=stages)"
   ]
  },
  {
   "cell_type": "code",
   "execution_count": 19,
   "id": "2a3b909b",
   "metadata": {},
   "outputs": [
    {
     "name": "stdout",
     "output_type": "stream",
     "text": [
      "23/03/19 21:29:52 WARN Instrumentation: [349e6ef1] regParam is zero, which might cause numerical instability and overfitting.\n",
      "+------------------+------------------+\n",
      "|median_house_value|        prediction|\n",
      "+------------------+------------------+\n",
      "|           78300.0| 79334.96793112345|\n",
      "|           67000.0|121238.25034267036|\n",
      "|           81300.0|119519.95579058118|\n",
      "|           62500.0|136193.06332345633|\n",
      "|          100600.0|159166.55825704942|\n",
      "|          104200.0| 169093.7908605039|\n",
      "|           86400.0|161490.38352680532|\n",
      "|           74100.0|125969.78347366117|\n",
      "|          128100.0| 193290.0225374885|\n",
      "|          130600.0|188195.51557182334|\n",
      "|           99600.0| 154208.8718324909|\n",
      "|           92800.0| 179152.6015313766|\n",
      "|           83000.0|145063.37091207644|\n",
      "|           70500.0|150527.99132204428|\n",
      "|           87500.0| 93758.25452290755|\n",
      "|           82100.0|123779.12561258627|\n",
      "|           99600.0|114506.27777479915|\n",
      "|          135600.0|151429.89097918058|\n",
      "|           78800.0| 98065.34879921004|\n",
      "|          111300.0|119718.73015574459|\n",
      "+------------------+------------------+\n",
      "only showing top 20 rows\n",
      "\n"
     ]
    }
   ],
   "source": [
    "model = pipeline_num.fit(train_data)\n",
    "\n",
    "predictions_num = model.transform(test_data)\n",
    "\n",
    "predictedLabes = predictions_num.select(\"median_house_value\", \"prediction\")\n",
    "\n",
    "predictedLabes.show() "
   ]
  },
  {
   "cell_type": "code",
   "execution_count": 20,
   "id": "2fa9fd0f",
   "metadata": {},
   "outputs": [
    {
     "name": "stdout",
     "output_type": "stream",
     "text": [
      " RMSE = 70545.61288125544 MAE = 51140.82521716775 R2 = 0.6265519133168591\n"
     ]
    }
   ],
   "source": [
    "eval = RegressionEvaluator(labelCol = 'median_house_value')\n",
    "rmse = eval.evaluate(predictions_num, {eval.metricName:'rmse'})\n",
    "mae = eval.evaluate(predictions_num, {eval.metricName:'mae'})\n",
    "r2 = eval.evaluate(predictions_num,{eval.metricName:'r2'})\n",
    "\n",
    "res_2 = f' RMSE = {rmse} MAE = {mae} R2 = {r2}'\n",
    "print(res_2)\n"
   ]
  },
  {
   "cell_type": "code",
   "execution_count": 23,
   "id": "63a73ff5",
   "metadata": {},
   "outputs": [],
   "source": [
    "# spark.stop()"
   ]
  },
  {
   "cell_type": "markdown",
   "id": "757fd103",
   "metadata": {
    "id": "757fd103"
   },
   "source": [
    "# Анализ результатов"
   ]
  },
  {
   "cell_type": "code",
   "execution_count": 22,
   "id": "e92b202b",
   "metadata": {
    "scrolled": true
   },
   "outputs": [
    {
     "name": "stdout",
     "output_type": "stream",
     "text": [
      "Linear Regression with all features  RMSE = 69332.3524277725 MAE = 49875.32583897082 R2 = 0.6392867554397212 \n",
      " Linear Regression with numeric features  RMSE = 70545.61288125544 MAE = 51140.82521716775 R2 = 0.6265519133168591\n"
     ]
    }
   ],
   "source": [
    "print('Linear Regression with all features',res_1, '\\n', 'Linear Regression with numeric features', res_2)"
   ]
  },
  {
   "cell_type": "markdown",
   "id": "6702a60d",
   "metadata": {},
   "source": [
    "Модель, обученная на полной тренировочной выборке лучше, пусть и не столь значительно.\n",
    "Значения метрик достаточно низкие, для повышения необходимо провести более детальную предобработку данных, рассчет корреляций и выбросов.\n",
    "\n",
    "Итоговые лучшие метрики: RMSE = 69332 MAE = 49875 R2 = 0.6393 "
   ]
  }
 ],
 "metadata": {
  "ExecuteTimeLog": [
   {
    "duration": 15834,
    "start_time": "2023-03-16T11:05:50.584Z"
   },
   {
    "duration": 8260,
    "start_time": "2023-03-16T11:11:04.946Z"
   },
   {
    "duration": 15,
    "start_time": "2023-03-16T11:13:32.279Z"
   },
   {
    "duration": 694,
    "start_time": "2023-03-16T11:14:38.902Z"
   },
   {
    "duration": 353,
    "start_time": "2023-03-16T11:15:07.539Z"
   },
   {
    "duration": 990,
    "start_time": "2023-03-16T11:15:54.515Z"
   },
   {
    "duration": 246,
    "start_time": "2023-03-16T11:20:27.953Z"
   },
   {
    "duration": 734,
    "start_time": "2023-03-16T11:20:28.787Z"
   },
   {
    "duration": 77,
    "start_time": "2023-03-16T11:21:17.751Z"
   },
   {
    "duration": 1689,
    "start_time": "2023-03-16T11:21:28.413Z"
   },
   {
    "duration": 27122,
    "start_time": "2023-03-19T09:38:42.265Z"
   },
   {
    "duration": 9,
    "start_time": "2023-03-19T09:39:13.265Z"
   },
   {
    "duration": 11108,
    "start_time": "2023-03-19T09:39:14.402Z"
   },
   {
    "duration": 1101,
    "start_time": "2023-03-19T09:39:46.992Z"
   },
   {
    "duration": 752,
    "start_time": "2023-03-19T09:40:10.944Z"
   },
   {
    "duration": 77,
    "start_time": "2023-03-19T09:40:33.496Z"
   },
   {
    "duration": 326,
    "start_time": "2023-03-19T09:40:50.560Z"
   },
   {
    "duration": 5417,
    "start_time": "2023-03-19T09:41:18.562Z"
   },
   {
    "duration": 5296,
    "start_time": "2023-03-19T09:43:27.166Z"
   },
   {
    "duration": 20,
    "start_time": "2023-03-19T09:45:28.225Z"
   },
   {
    "duration": 55500,
    "start_time": "2023-03-19T09:47:16.249Z"
   },
   {
    "duration": 9,
    "start_time": "2023-03-19T09:48:15.506Z"
   },
   {
    "duration": 7,
    "start_time": "2023-03-19T09:48:20.759Z"
   },
   {
    "duration": 25,
    "start_time": "2023-03-19T09:48:27.068Z"
   },
   {
    "duration": 2631,
    "start_time": "2023-03-19T09:49:21.208Z"
   },
   {
    "duration": 15853,
    "start_time": "2023-03-19T09:49:23.842Z"
   },
   {
    "duration": 12212,
    "start_time": "2023-03-19T09:49:39.698Z"
   },
   {
    "duration": 1186,
    "start_time": "2023-03-19T09:49:51.913Z"
   },
   {
    "duration": 6608,
    "start_time": "2023-03-19T09:49:53.101Z"
   },
   {
    "duration": 5789,
    "start_time": "2023-03-19T09:49:59.711Z"
   },
   {
    "duration": 207,
    "start_time": "2023-03-19T09:50:05.501Z"
   },
   {
    "duration": 4,
    "start_time": "2023-03-19T09:50:05.778Z"
   },
   {
    "duration": 5537,
    "start_time": "2023-03-19T09:50:46.945Z"
   },
   {
    "duration": 3820,
    "start_time": "2023-03-19T09:51:51.690Z"
   },
   {
    "duration": 1309,
    "start_time": "2023-03-19T09:52:02.592Z"
   },
   {
    "duration": 3396,
    "start_time": "2023-03-19T09:52:05.005Z"
   },
   {
    "duration": 90,
    "start_time": "2023-03-19T10:25:21.599Z"
   },
   {
    "duration": 100,
    "start_time": "2023-03-19T10:25:23.071Z"
   },
   {
    "duration": 3466,
    "start_time": "2023-03-19T10:25:52.325Z"
   },
   {
    "duration": 29,
    "start_time": "2023-03-19T10:40:00.386Z"
   },
   {
    "duration": 1804,
    "start_time": "2023-03-19T10:40:01.417Z"
   },
   {
    "duration": 2837,
    "start_time": "2023-03-19T10:40:18.842Z"
   },
   {
    "duration": 15782,
    "start_time": "2023-03-19T10:40:21.684Z"
   },
   {
    "duration": 12632,
    "start_time": "2023-03-19T10:40:37.468Z"
   },
   {
    "duration": 978,
    "start_time": "2023-03-19T10:40:50.103Z"
   },
   {
    "duration": 7036,
    "start_time": "2023-03-19T10:40:51.083Z"
   },
   {
    "duration": 5843,
    "start_time": "2023-03-19T10:40:58.178Z"
   },
   {
    "duration": 242,
    "start_time": "2023-03-19T10:41:04.077Z"
   },
   {
    "duration": 6108,
    "start_time": "2023-03-19T10:41:04.321Z"
   },
   {
    "duration": 1190,
    "start_time": "2023-03-19T10:41:10.431Z"
   },
   {
    "duration": 3691,
    "start_time": "2023-03-19T10:41:11.625Z"
   },
   {
    "duration": 182,
    "start_time": "2023-03-19T10:41:15.318Z"
   },
   {
    "duration": 3240,
    "start_time": "2023-03-19T10:41:15.502Z"
   },
   {
    "duration": 29,
    "start_time": "2023-03-19T10:47:33.456Z"
   },
   {
    "duration": 1551,
    "start_time": "2023-03-19T10:47:34.364Z"
   },
   {
    "duration": 136,
    "start_time": "2023-03-19T10:47:54.100Z"
   },
   {
    "duration": 2641,
    "start_time": "2023-03-19T10:48:04.680Z"
   },
   {
    "duration": 15673,
    "start_time": "2023-03-19T10:48:07.324Z"
   },
   {
    "duration": 12305,
    "start_time": "2023-03-19T10:48:22.999Z"
   },
   {
    "duration": 1100,
    "start_time": "2023-03-19T10:48:35.307Z"
   },
   {
    "duration": 6707,
    "start_time": "2023-03-19T10:48:36.408Z"
   },
   {
    "duration": 6180,
    "start_time": "2023-03-19T10:48:43.117Z"
   },
   {
    "duration": 214,
    "start_time": "2023-03-19T10:48:49.300Z"
   },
   {
    "duration": 5565,
    "start_time": "2023-03-19T10:48:49.516Z"
   },
   {
    "duration": 1214,
    "start_time": "2023-03-19T10:48:55.083Z"
   },
   {
    "duration": 4094,
    "start_time": "2023-03-19T10:48:56.301Z"
   },
   {
    "duration": 190,
    "start_time": "2023-03-19T10:49:00.398Z"
   },
   {
    "duration": 3749,
    "start_time": "2023-03-19T10:49:00.591Z"
   },
   {
    "duration": 0,
    "start_time": "2023-03-19T10:49:04.342Z"
   },
   {
    "duration": 1895,
    "start_time": "2023-03-19T11:47:45.210Z"
   },
   {
    "duration": 4,
    "start_time": "2023-03-19T11:47:47.177Z"
   },
   {
    "duration": 2509,
    "start_time": "2023-03-19T12:23:09.175Z"
   },
   {
    "duration": 14943,
    "start_time": "2023-03-19T12:23:11.687Z"
   },
   {
    "duration": 11459,
    "start_time": "2023-03-19T12:23:26.632Z"
   },
   {
    "duration": 891,
    "start_time": "2023-03-19T12:23:38.093Z"
   },
   {
    "duration": 6090,
    "start_time": "2023-03-19T12:23:38.988Z"
   },
   {
    "duration": 5212,
    "start_time": "2023-03-19T12:23:45.081Z"
   },
   {
    "duration": 201,
    "start_time": "2023-03-19T12:23:50.295Z"
   },
   {
    "duration": 5314,
    "start_time": "2023-03-19T12:23:50.498Z"
   },
   {
    "duration": 1006,
    "start_time": "2023-03-19T12:23:55.813Z"
   },
   {
    "duration": 3704,
    "start_time": "2023-03-19T12:23:56.878Z"
   },
   {
    "duration": 2435,
    "start_time": "2023-03-19T12:24:00.585Z"
   },
   {
    "duration": 56,
    "start_time": "2023-03-19T12:24:03.022Z"
   },
   {
    "duration": 3297,
    "start_time": "2023-03-19T12:24:03.080Z"
   },
   {
    "duration": 1317,
    "start_time": "2023-03-19T12:24:06.380Z"
   },
   {
    "duration": 285,
    "start_time": "2023-03-19T12:24:07.700Z"
   },
   {
    "duration": 2002,
    "start_time": "2023-03-19T12:24:07.987Z"
   },
   {
    "duration": 6,
    "start_time": "2023-03-19T12:24:09.990Z"
   },
   {
    "duration": 404,
    "start_time": "2023-03-19T12:24:09.997Z"
   },
   {
    "duration": 0,
    "start_time": "2023-03-19T12:24:10.403Z"
   },
   {
    "duration": 0,
    "start_time": "2023-03-19T12:24:10.404Z"
   },
   {
    "duration": 0,
    "start_time": "2023-03-19T12:24:10.405Z"
   },
   {
    "duration": 0,
    "start_time": "2023-03-19T12:24:10.407Z"
   },
   {
    "duration": 0,
    "start_time": "2023-03-19T12:24:10.408Z"
   },
   {
    "duration": 0,
    "start_time": "2023-03-19T12:24:10.409Z"
   },
   {
    "duration": 16319,
    "start_time": "2023-03-19T20:54:57.599Z"
   },
   {
    "duration": 40020,
    "start_time": "2023-03-19T21:26:50.338Z"
   },
   {
    "duration": 15534,
    "start_time": "2023-03-19T21:27:30.361Z"
   },
   {
    "duration": 11921,
    "start_time": "2023-03-19T21:27:45.898Z"
   },
   {
    "duration": 1079,
    "start_time": "2023-03-19T21:27:57.823Z"
   },
   {
    "duration": 5998,
    "start_time": "2023-03-19T21:27:58.904Z"
   },
   {
    "duration": 5702,
    "start_time": "2023-03-19T21:28:04.904Z"
   },
   {
    "duration": 205,
    "start_time": "2023-03-19T21:28:10.608Z"
   },
   {
    "duration": 5895,
    "start_time": "2023-03-19T21:28:10.816Z"
   },
   {
    "duration": 1187,
    "start_time": "2023-03-19T21:28:16.713Z"
   },
   {
    "duration": 4296,
    "start_time": "2023-03-19T21:28:17.903Z"
   },
   {
    "duration": 142,
    "start_time": "2023-03-19T21:28:22.201Z"
   },
   {
    "duration": 0,
    "start_time": "2023-03-19T21:28:22.345Z"
   },
   {
    "duration": 0,
    "start_time": "2023-03-19T21:28:22.346Z"
   },
   {
    "duration": 0,
    "start_time": "2023-03-19T21:28:22.348Z"
   },
   {
    "duration": 0,
    "start_time": "2023-03-19T21:28:22.349Z"
   },
   {
    "duration": 0,
    "start_time": "2023-03-19T21:28:22.350Z"
   },
   {
    "duration": 0,
    "start_time": "2023-03-19T21:28:22.352Z"
   },
   {
    "duration": 0,
    "start_time": "2023-03-19T21:28:22.353Z"
   },
   {
    "duration": 0,
    "start_time": "2023-03-19T21:28:22.354Z"
   },
   {
    "duration": 0,
    "start_time": "2023-03-19T21:28:22.356Z"
   },
   {
    "duration": 13,
    "start_time": "2023-03-19T21:29:25.454Z"
   },
   {
    "duration": 28,
    "start_time": "2023-03-19T21:29:33.033Z"
   },
   {
    "duration": 66,
    "start_time": "2023-03-19T21:29:35.471Z"
   },
   {
    "duration": 9789,
    "start_time": "2023-03-19T21:29:36.319Z"
   },
   {
    "duration": 3305,
    "start_time": "2023-03-19T21:29:46.111Z"
   },
   {
    "duration": 71,
    "start_time": "2023-03-19T21:29:49.418Z"
   },
   {
    "duration": 4,
    "start_time": "2023-03-19T21:29:49.492Z"
   },
   {
    "duration": 5292,
    "start_time": "2023-03-19T21:29:49.498Z"
   },
   {
    "duration": 2417,
    "start_time": "2023-03-19T21:29:54.792Z"
   },
   {
    "duration": 4,
    "start_time": "2023-03-19T21:29:57.211Z"
   },
   {
    "duration": 6,
    "start_time": "2023-03-19T21:29:57.216Z"
   },
   {
    "duration": 543,
    "start_time": "2023-03-19T21:31:27.394Z"
   }
  ],
  "colab": {
   "name": "PySparkSprint.ipynb",
   "provenance": []
  },
  "kernelspec": {
   "display_name": "Python 3 (ipykernel)",
   "language": "python",
   "name": "python3"
  },
  "language_info": {
   "codemirror_mode": {
    "name": "ipython",
    "version": 3
   },
   "file_extension": ".py",
   "mimetype": "text/x-python",
   "name": "python",
   "nbconvert_exporter": "python",
   "pygments_lexer": "ipython3",
   "version": "3.11.4"
  },
  "toc": {
   "base_numbering": 1,
   "nav_menu": {},
   "number_sections": true,
   "sideBar": true,
   "skip_h1_title": true,
   "title_cell": "Table of Contents",
   "title_sidebar": "Contents",
   "toc_cell": false,
   "toc_position": {},
   "toc_section_display": true,
   "toc_window_display": false
  }
 },
 "nbformat": 4,
 "nbformat_minor": 5
}
